{
 "cells": [
  {
   "cell_type": "markdown",
   "metadata": {},
   "source": [
    "# AIS Python Workshop 2"
   ]
  },
  {
   "cell_type": "markdown",
   "metadata": {},
   "source": [
    "### The Plan\n",
    "---\n",
    "1. Anaconda\n",
    "2. Jupyter Notebook\n",
    "    * Shortcuts\n",
    "    * Formatting & Beutifying (Markdown)\n",
    "3. Functions\n",
    "    * Syntax\n",
    "    * Parameters\n",
    "        * Default\n",
    "        * Named\n",
    "    * Nested\n",
    "4. Working With Data\n",
    "    * JSON\n",
    "    * CSV\n",
    "    * XML"
   ]
  },
  {
   "cell_type": "markdown",
   "metadata": {},
   "source": [
    "### Anaconda"
   ]
  },
  {
   "cell_type": "markdown",
   "metadata": {},
   "source": [
    "[Downloading Anaconda](https://www.anaconda.com/distribution) will save you alot of work. \n",
    "\n",
    "Includes:\n",
    "![Anaconda](images/anaconda.png)"
   ]
  },
  {
   "cell_type": "markdown",
   "metadata": {},
   "source": [
    "### Jupyter Notebook\n",
    "\n",
    "**The** de-facto tool for explanatory data analytics. \n",
    "\n",
    "* Inline code execution (multiple languages)\n",
    "* Markdown for formatting\n",
    "* Easy to share via web / file\n",
    "* Interactive\n",
    "* Included with Anaconda\n",
    "* Press `H` for keyboard shortcuts\n",
    "* Markdown Shortcuts >>>\n"
   ]
  },
  {
   "cell_type": "markdown",
   "metadata": {},
   "source": [
    "![Markdown](images/markdown.png)"
   ]
  },
  {
   "cell_type": "markdown",
   "metadata": {},
   "source": [
    "### Python Functions"
   ]
  },
  {
   "cell_type": "markdown",
   "metadata": {},
   "source": [
    "**Syntax**"
   ]
  },
  {
   "cell_type": "code",
   "execution_count": null,
   "metadata": {},
   "outputs": [],
   "source": [
    "def say_hello():\n",
    "    print('hello world')"
   ]
  },
  {
   "cell_type": "markdown",
   "metadata": {},
   "source": [
    "Function is now *defined*, but has not been *invoked*"
   ]
  },
  {
   "cell_type": "markdown",
   "metadata": {},
   "source": [
    "Invoking a function:"
   ]
  },
  {
   "cell_type": "code",
   "execution_count": null,
   "metadata": {},
   "outputs": [],
   "source": [
    "say_hello()"
   ]
  },
  {
   "cell_type": "markdown",
   "metadata": {},
   "source": [
    "**Fruitful Functions**\n",
    "Fruitful functions *return* a value"
   ]
  },
  {
   "cell_type": "code",
   "execution_count": null,
   "metadata": {},
   "outputs": [],
   "source": [
    "def say_hello_fruitfully():\n",
    "    return 'Hello World!'"
   ]
  },
  {
   "cell_type": "code",
   "execution_count": null,
   "metadata": {},
   "outputs": [],
   "source": [
    "response = say_hello_fruitfully()\n",
    "print(response)"
   ]
  },
  {
   "cell_type": "markdown",
   "metadata": {},
   "source": [
    "**Parameters**"
   ]
  },
  {
   "cell_type": "code",
   "execution_count": null,
   "metadata": {},
   "outputs": [],
   "source": [
    "def say_hello(name):\n",
    "    print('hello', name)"
   ]
  },
  {
   "cell_type": "code",
   "execution_count": null,
   "metadata": {},
   "outputs": [],
   "source": [
    "say_hello('McKliesh')"
   ]
  },
  {
   "cell_type": "markdown",
   "metadata": {},
   "source": [
    "*default / optional parameters*"
   ]
  },
  {
   "cell_type": "code",
   "execution_count": null,
   "metadata": {},
   "outputs": [],
   "source": [
    "def say_hello(name='anonymous'):\n",
    "    print('hello', name)"
   ]
  },
  {
   "cell_type": "code",
   "execution_count": null,
   "metadata": {},
   "outputs": [],
   "source": [
    "say_hello()"
   ]
  },
  {
   "cell_type": "markdown",
   "metadata": {},
   "source": [
    "*multiple parameters*"
   ]
  },
  {
   "cell_type": "code",
   "execution_count": null,
   "metadata": {},
   "outputs": [],
   "source": [
    "def say_hello(name, time_of_day, decibel='!'):\n",
    "    print('hello', name, 'it is', time_of_day, decibel)"
   ]
  },
  {
   "cell_type": "code",
   "execution_count": null,
   "metadata": {},
   "outputs": [],
   "source": [
    "say_hello(time_of_day='Noon', name='Bob')"
   ]
  },
  {
   "cell_type": "markdown",
   "metadata": {},
   "source": [
    "*functions as parameters*"
   ]
  },
  {
   "cell_type": "code",
   "execution_count": null,
   "metadata": {},
   "outputs": [],
   "source": [
    "def give_me_your_name():\n",
    "    return input('Hello, what is your name?')"
   ]
  },
  {
   "cell_type": "code",
   "execution_count": null,
   "metadata": {},
   "outputs": [],
   "source": [
    "say_hello(name=give_me_your_name(),time_of_day='Evening')"
   ]
  },
  {
   "cell_type": "markdown",
   "metadata": {},
   "source": [
    "### Working with Data"
   ]
  },
  {
   "cell_type": "markdown",
   "metadata": {},
   "source": [
    "**JSON**"
   ]
  },
  {
   "cell_type": "code",
   "execution_count": null,
   "metadata": {},
   "outputs": [],
   "source": [
    "import json\n",
    "from pprint import pprint\n",
    "\n",
    "# Load a raw string as a json object (json.loads will create a dictionary)\n",
    "json_data = '{\"name\": \"Frank\", \"age\": 39}'\n",
    "parsed_json = json.loads(json_data)\n",
    "\n",
    "# Notice this is a dictionary obj\n",
    "print(type(parsed_json))"
   ]
  },
  {
   "cell_type": "code",
   "execution_count": null,
   "metadata": {},
   "outputs": [],
   "source": [
    "pprint(parsed_json)"
   ]
  },
  {
   "cell_type": "markdown",
   "metadata": {},
   "source": [
    "*access by key*"
   ]
  },
  {
   "cell_type": "code",
   "execution_count": null,
   "metadata": {},
   "outputs": [],
   "source": [
    "print(parsed_json['name'])"
   ]
  },
  {
   "cell_type": "markdown",
   "metadata": {},
   "source": [
    "*Load from a file (json.load will create a dictionary)*"
   ]
  },
  {
   "cell_type": "code",
   "execution_count": null,
   "metadata": {},
   "outputs": [],
   "source": [
    "with open('data/todayilearned.json') as json_file:\n",
    "    parsed_json_file = json.load(json_file)\n",
    "\n",
    "    # Also a dictionary obj\n",
    "    print(type(parsed_json_file))\n",
    "    pprint(parsed_json_file)\n",
    "\n",
    "    # Can also access by key, nesting can by difficult.\n",
    "    pprint(parsed_json_file['data'])"
   ]
  },
  {
   "cell_type": "markdown",
   "metadata": {},
   "source": [
    "**Loads (Load String)**"
   ]
  },
  {
   "cell_type": "code",
   "execution_count": null,
   "metadata": {},
   "outputs": [],
   "source": [
    "json_data = '{\"name\": \"Frank\", \"age\": 39, \"pets\":[\"dog\",\"fish\",\"cat\"]}'\n",
    "parsed_json = json.loads(json_data)\n",
    "\n",
    "print(type(parsed_json['pets']))"
   ]
  },
  {
   "cell_type": "code",
   "execution_count": null,
   "metadata": {},
   "outputs": [],
   "source": [
    "print(parsed_json['pets'][0])"
   ]
  },
  {
   "cell_type": "markdown",
   "metadata": {},
   "source": [
    "**Working with nested type**"
   ]
  },
  {
   "cell_type": "code",
   "execution_count": null,
   "metadata": {},
   "outputs": [],
   "source": [
    "json_data = '{' \\\n",
    "            '   \"name\": \"Frank\", ' \\\n",
    "            '   \"age\": 39, ' \\\n",
    "            '   \"pets\":[\"dog\",\"fish\",\"cat\"], ' \\\n",
    "            '   \"books\": [{\"title\":\"Summer of the Monkeys\",\"tags\":[\"monkeys\",\"summer\"]}],' \\\n",
    "            '   \"meta\": {\"father\":\"Frank Sr.\"}' \\\n",
    "            '}'\n",
    "parsed_json = json.loads(json_data)\n",
    "\n",
    "print(parsed_json['meta']['father'])"
   ]
  },
  {
   "cell_type": "markdown",
   "metadata": {},
   "source": [
    "**Dumps (Dump String)**"
   ]
  },
  {
   "cell_type": "code",
   "execution_count": null,
   "metadata": {},
   "outputs": [],
   "source": [
    "some_dictionary = {\n",
    "    'name': 'Frank',\n",
    "    'age' : 40,\n",
    "    'hobbies' : ['Skiing', 'Fishing', 'Homework']\n",
    "}\n",
    "\n",
    "json_from_dict = json.dumps(some_dictionary)\n",
    "\n",
    "# Below is now a json string\n",
    "pprint(json_from_dict)"
   ]
  },
  {
   "cell_type": "markdown",
   "metadata": {},
   "source": [
    "### CSV"
   ]
  },
  {
   "cell_type": "code",
   "execution_count": null,
   "metadata": {},
   "outputs": [],
   "source": [
    "import csv\n",
    "import statistics\n",
    "from datetime import datetime\n",
    "\n",
    "with open(r'data/fred_cpi.csv', 'r',encoding='utf8') as cpi_file:\n",
    "        cpi = csv.reader(cpi_file)\n",
    "        print([item for item in cpi])"
   ]
  },
  {
   "cell_type": "markdown",
   "metadata": {},
   "source": [
    "*Convert datetime to a consistent format, Convert cpi to a float*"
   ]
  },
  {
   "cell_type": "code",
   "execution_count": null,
   "metadata": {},
   "outputs": [],
   "source": [
    "all_values = []\n",
    "all_dates = []\n",
    "\n",
    "with open(r'data/fred_cpi.csv', 'r',encoding='utf8') as cpi_file:\n",
    "    cpi = csv.reader(cpi_file)\n",
    "    for row in cpi:\n",
    "        all_dates.append(datetime.strptime(row[0],'%Y-%m-%d'))\n",
    "        all_values.append(float(row[1]))\n",
    "print('Done!')"
   ]
  },
  {
   "cell_type": "markdown",
   "metadata": {},
   "source": [
    "*Get the mean*"
   ]
  },
  {
   "cell_type": "code",
   "execution_count": null,
   "metadata": {},
   "outputs": [],
   "source": [
    "print(f'Mean:{statistics.mean(all_values)}')"
   ]
  }
 ],
 "metadata": {
  "kernelspec": {
   "display_name": "Python 3",
   "language": "python",
   "name": "python3"
  },
  "language_info": {
   "codemirror_mode": {
    "name": "ipython",
    "version": 3
   },
   "file_extension": ".py",
   "mimetype": "text/x-python",
   "name": "python",
   "nbconvert_exporter": "python",
   "pygments_lexer": "ipython3",
   "version": "3.7.1"
  }
 },
 "nbformat": 4,
 "nbformat_minor": 2
}
